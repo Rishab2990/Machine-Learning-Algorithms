{
 "cells": [
  {
   "cell_type": "code",
   "execution_count": 1,
   "id": "ae1c03a7-99b6-418a-b93f-d1ed127df2e1",
   "metadata": {},
   "outputs": [],
   "source": [
    "import numpy as np"
   ]
  },
  {
   "cell_type": "code",
   "execution_count": 5,
   "id": "e4fe3fd3-ae26-492a-b511-2eb830a5f366",
   "metadata": {},
   "outputs": [],
   "source": [
    "#x = np.array([[[[1,2,3,4,5],[1,2,3,4,5] , [1,2,3,4,5] , [1,2,3,4,5]]]])"
   ]
  },
  {
   "cell_type": "code",
   "execution_count": 8,
   "id": "ce201b9c-0eac-4b06-9ed1-16fa1c74cb13",
   "metadata": {},
   "outputs": [
    {
     "ename": "TypeError",
     "evalue": "'NoneType' object is not subscriptable",
     "output_type": "error",
     "traceback": [
      "\u001b[1;31m---------------------------------------------------------------------------\u001b[0m",
      "\u001b[1;31mTypeError\u001b[0m                                 Traceback (most recent call last)",
      "Cell \u001b[1;32mIn[8], line 67\u001b[0m\n\u001b[0;32m     43\u001b[0m \u001b[38;5;66;03m#A different approach suggested by GPT \u001b[39;00m\n\u001b[0;32m     44\u001b[0m \n\u001b[0;32m     45\u001b[0m \u001b[38;5;66;03m#calculating nearest distance from new fruit \u001b[39;00m\n\u001b[1;32m   (...)\u001b[0m\n\u001b[0;32m     64\u001b[0m \n\u001b[0;32m     65\u001b[0m \u001b[38;5;66;03m# There is my approach \u001b[39;00m\n\u001b[0;32m     66\u001b[0m votes\u001b[38;5;241m=\u001b[39m{}\n\u001b[1;32m---> 67\u001b[0m \u001b[38;5;28;01mfor\u001b[39;00m neighbor \u001b[38;5;129;01min\u001b[39;00m sorted_distance[:K]:\n\u001b[0;32m     68\u001b[0m   label \u001b[38;5;241m=\u001b[39m neighbor[\u001b[38;5;241m1\u001b[39m]\n\u001b[0;32m     69\u001b[0m   \u001b[38;5;28;01mif\u001b[39;00m label \u001b[38;5;129;01min\u001b[39;00m votes:\n",
      "\u001b[1;31mTypeError\u001b[0m: 'NoneType' object is not subscriptable"
     ]
    }
   ],
   "source": [
    "# K-Nearest Neighbor\n",
    "\n",
    "# Each entry has a Weight , size , label\n",
    "dataset = [\n",
    "    [150 , 7 , 'apple'],\n",
    "    [170 , 8 , 'apple'],\n",
    "    [140 , 6 , 'apple'],\n",
    "    [130 , 5 , 'apple'],\n",
    "    [160 , 9 , 'orange'],\n",
    "    [175 , 9 , 'orange']\n",
    "          ]\n",
    "new_fruit = [170,9]\n",
    "#Define Distance formula\n",
    "\n",
    "\n",
    "# We use 0.5 as a square root\n",
    "# distance_calculation = (x2-x1)**2 + (y2-y1)**2\n",
    "# squared_rootValue = distance_calculation**0.5\n",
    "# squared_rootValue\n",
    "\n",
    "distances=[]\n",
    "\n",
    "#We use for loop to calculate the distance from all values\n",
    "for fruit in dataset:\n",
    "    weight = fruit[0]\n",
    "    size   = fruit[1]\n",
    "    label  = fruit[2]\n",
    "\n",
    "    distance_squared = (new_fruit[0] - weight)**2 + (new_fruit[1] - size)**2\n",
    "\n",
    "    distance = distance_squared**0.5\n",
    "\n",
    "    # store distance and label\n",
    "    distances.append([distance , label ])\n",
    "\n",
    "    sorted_distance =  distances.sort()\n",
    "\n",
    "#print K nearest neighbors means checking the nearest values which is close to \"new_fruit\"\n",
    "\n",
    "K = 3\n",
    "\n",
    "\n",
    "#A different approach suggested by GPT \n",
    "\n",
    "#calculating nearest distance from new fruit \n",
    "#K_nearest = distance[:K]\n",
    "\n",
    "# Counting labels \n",
    "\n",
    "#votes = {}\n",
    "\n",
    "# for distances in k_nearest :\n",
    "#     label = distances[1]\n",
    "#     if label in votes:\n",
    "#         votes[label]+=1\n",
    "\n",
    "#     else :\n",
    "#      votes[label]=1\n",
    "\n",
    "#     predicted_label =(votes ,  key=votes.get)\n",
    "\n",
    "\n",
    "\n",
    "\n",
    "# There is my approach \n",
    "votes={}\n",
    "for neighbor in sorted_distance[:K]:\n",
    "  label = neighbor[1]\n",
    "  if label in votes:\n",
    "    votes[label]+=1\n",
    "else:\n",
    "    votes[label]=1\n",
    "\n",
    "\n",
    "# Prediction of Max votes for label\n",
    "\n",
    "prediction = max(votes , key=votes.get)\n",
    "\n",
    "    "
   ]
  },
  {
   "cell_type": "code",
   "execution_count": null,
   "id": "a18b28a6-61d1-4f2c-846b-136561caa96d",
   "metadata": {},
   "outputs": [],
   "source": []
  },
  {
   "cell_type": "code",
   "execution_count": null,
   "id": "acf42724-97db-4239-9f47-f2ec6e191824",
   "metadata": {},
   "outputs": [],
   "source": []
  }
 ],
 "metadata": {
  "kernelspec": {
   "display_name": "Python 3 (ipykernel)",
   "language": "python",
   "name": "python3"
  },
  "language_info": {
   "codemirror_mode": {
    "name": "ipython",
    "version": 3
   },
   "file_extension": ".py",
   "mimetype": "text/x-python",
   "name": "python",
   "nbconvert_exporter": "python",
   "pygments_lexer": "ipython3",
   "version": "3.12.3"
  }
 },
 "nbformat": 4,
 "nbformat_minor": 5
}

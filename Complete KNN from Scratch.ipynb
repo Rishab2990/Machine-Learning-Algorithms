{
 "cells": [
  {
   "cell_type": "code",
   "execution_count": 1,
   "id": "ae1c03a7-99b6-418a-b93f-d1ed127df2e1",
   "metadata": {},
   "outputs": [],
   "source": [
    "import numpy as np"
   ]
  },
  {
   "cell_type": "code",
   "execution_count": 2,
   "id": "e4fe3fd3-ae26-492a-b511-2eb830a5f366",
   "metadata": {},
   "outputs": [],
   "source": [
    "#x = np.array([[[[1,2,3,4,5],[1,2,3,4,5] , [1,2,3,4,5] , [1,2,3,4,5]]]])"
   ]
  },
  {
   "cell_type": "code",
   "execution_count": 13,
   "id": "ce201b9c-0eac-4b06-9ed1-16fa1c74cb13",
   "metadata": {},
   "outputs": [
    {
     "name": "stdout",
     "output_type": "stream",
     "text": [
      "[1.0, 'apple']\n",
      "[5.0, 'orange']\n",
      "[10.0, 'orange']\n",
      "Predicted label for new fruit :  orange\n"
     ]
    }
   ],
   "source": [
    "# K-Nearest Neighbor\n",
    "\n",
    "# Each entry has a Weight , size , label\n",
    "dataset = [\n",
    "    [150 , 7 , 'apple'],\n",
    "    [170 , 8 , 'apple'],\n",
    "    [140 , 6 , 'apple'],\n",
    "    [130 , 5 , 'apple'],\n",
    "    [160 , 9 , 'orange'],\n",
    "    [175 , 9 , 'orange']\n",
    "          ]\n",
    "new_fruit = [170,9]\n",
    "#Define Distance formula\n",
    "\n",
    "\n",
    "# We use 0.5 as a square root\n",
    "# distance_calculation = (x2-x1)**2 + (y2-y1)**2\n",
    "# squared_rootValue = distance_calculation**0.5\n",
    "# squared_rootValue\n",
    "\n",
    "distances=[]\n",
    "\n",
    "#We use for loop to calculate the distance from all values\n",
    "for fruit in dataset:\n",
    "    weight = fruit[0]\n",
    "    size   = fruit[1]\n",
    "    label  = fruit[2]\n",
    "\n",
    "    distance_squared = (new_fruit[0] - weight)**2 + (new_fruit[1] - size)**2\n",
    "\n",
    "    distance = distance_squared**0.5\n",
    "\n",
    "    # store distance and label\n",
    "    distances.append([distance , label ])\n",
    "\n",
    " #   sorted_distance =  sorted(distances)    # This will return value \n",
    "\n",
    "                #OR\n",
    "\n",
    "    distances.sort()\n",
    "\n",
    "#print K nearest neighbors means checking the nearest values which is close to \"new_fruit\"\n",
    "\n",
    "K = 3\n",
    "\n",
    "\n",
    "#A different approach suggested by GPT \n",
    "\n",
    "#calculating nearest distance from new fruit \n",
    "#K_nearest = distance[:K]\n",
    "\n",
    "# Counting labels \n",
    "\n",
    "#votes = {}\n",
    "\n",
    "# for distances in k_nearest :\n",
    "#     label = distances[1]\n",
    "#     if label in votes:\n",
    "#         votes[label]+=1\n",
    "\n",
    "#     else :\n",
    "#      votes[label]=1\n",
    "\n",
    "#     predicted_label =(votes ,  key=votes.get)\n",
    "\n",
    "\n",
    "\n",
    "#K_nearest = sorted_distance[:K]\n",
    "# There is my approach \n",
    "\n",
    "votes={}\n",
    "for neighbor in distances[:K]:\n",
    "  label = neighbor[1]\n",
    "  if label in votes:\n",
    "    votes[label]+=1\n",
    "  else:\n",
    "    votes[label] = 1\n",
    "\n",
    "\n",
    "# Prediction of Max votes for label\n",
    "prediction = max(votes , key=votes.get)\n",
    "\n",
    "\n",
    "# I think this code will print the sorted distance and get a nearest value and max vote fruit in one code i think\n",
    "for value in sorted_distance[:K]:\n",
    "    print(value)\n",
    "\n",
    "\n",
    "# through this \"print\" statement we get new fruit label because we find max votes and which fruit has max vote that label belongs to new fruit    \n",
    "print(\"Predicted label for new fruit : \" , prediction)\n",
    "\n",
    "    "
   ]
  },
  {
   "cell_type": "code",
   "execution_count": null,
   "id": "30f1ab04-16ce-4017-a04c-3ae2f09cbcea",
   "metadata": {},
   "outputs": [],
   "source": []
  },
  {
   "cell_type": "code",
   "execution_count": null,
   "id": "87c9e95f-a59e-4611-b118-4c251bb40dc5",
   "metadata": {},
   "outputs": [],
   "source": []
  },
  {
   "cell_type": "code",
   "execution_count": null,
   "id": "72fe4940-2d6f-4997-977d-cac9a90515b3",
   "metadata": {},
   "outputs": [],
   "source": []
  }
 ],
 "metadata": {
  "kernelspec": {
   "display_name": "Python 3 (ipykernel)",
   "language": "python",
   "name": "python3"
  },
  "language_info": {
   "codemirror_mode": {
    "name": "ipython",
    "version": 3
   },
   "file_extension": ".py",
   "mimetype": "text/x-python",
   "name": "python",
   "nbconvert_exporter": "python",
   "pygments_lexer": "ipython3",
   "version": "3.12.3"
  }
 },
 "nbformat": 4,
 "nbformat_minor": 5
}
